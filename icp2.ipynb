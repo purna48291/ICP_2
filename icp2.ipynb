{
  "nbformat": 4,
  "nbformat_minor": 0,
  "metadata": {
    "colab": {
      "provenance": [],
      "authorship_tag": "ABX9TyOXNOWvz/f96Yn4Em2c3YMy",
      "include_colab_link": true
    },
    "kernelspec": {
      "name": "python3",
      "display_name": "Python 3"
    },
    "language_info": {
      "name": "python"
    }
  },
  "cells": [
    {
      "cell_type": "markdown",
      "metadata": {
        "id": "view-in-github",
        "colab_type": "text"
      },
      "source": [
        "<a href=\"https://colab.research.google.com/github/purna48291/ICP_2/blob/main/icp2.ipynb\" target=\"_parent\"><img src=\"https://colab.research.google.com/assets/colab-badge.svg\" alt=\"Open In Colab\"/></a>"
      ]
    },
    {
      "cell_type": "code",
      "execution_count": null,
      "metadata": {
        "id": "9tPQHzzeIX9O"
      },
      "outputs": [],
      "source": []
    },
    {
      "cell_type": "markdown",
      "source": [
        "Create a class Employee and then do the following\n",
        "\n",
        "• Create a data member to count the number of Employees\n",
        "\n",
        "• Create a constructor to initialize name, family, salary, department\n",
        "\n",
        "• Create a function to average salary\n",
        "\n",
        "• Create a Fulltime Employee class and it should inherit the properties of Employee class\n",
        "\n",
        "• Create the instances of Fulltime Employee class and Employee class and call their member functions.\n"
      ],
      "metadata": {
        "id": "ldW_pEEqIlDQ"
      }
    },
    {
      "cell_type": "code",
      "source": [
        "# Employee Class creation\n",
        "class Employee():\n",
        "    # create data members to track count of employee and list of salaries\n",
        "    emp_count = 0\n",
        "    # constructor for initializing the variables\n",
        "    def __init__(self,name,family,salary,department):\n",
        "        self.name = name,\n",
        "        self.family = family,\n",
        "        self.salary = salary,\n",
        "        self.department = department,\n",
        "        Employee.emp_count += 1\n",
        "\n",
        "    # function to return average of salary\n",
        "    def avg_salary(employees:list):\n",
        "        salaries_list = [emp.salary[0] for emp in employees] # method 1 : generic\n",
        "        # print(emp.salary[0] for emp in employees)\n",
        "        avg_sal = sum(salaries_list)/Employee.emp_count      # method 2 : using numpy\n",
        "        # avg_sal = np.mean(salaries_list)\n",
        "        return avg_sal\n",
        "\n",
        "# create FullTimeEmployee class and inherit the properties from Employee class\n",
        "class FullTimeEmployee(Employee):\n",
        "    def __init__(self,name,family,salary,department):\n",
        "        # calling parent class constructor\n",
        "        super().__init__(name,family,salary,department)\n",
        "\n",
        "employees = []\n",
        "employees.append(Employee(\"purna\",\"venkatesh\",60000,\"HR\"))\n",
        "employees.append(Employee(\"soma\",\"sekhar\",900000,\"Artificial Intelligence\"))\n",
        "employees.append(FullTimeEmployee(\"pooja\",\"sree\",800000,\"Finance\"))\n",
        "employees.append(FullTimeEmployee(\"sai\",\"Prasad\",700000,\"Marketing\"))\n",
        "\n",
        "\n",
        "print(\"Output using employee class : \",  Employee.avg_salary(employees))\n",
        "print(\"Output using fulltime employee class : \",FullTimeEmployee.avg_salary(employees))"
      ],
      "metadata": {
        "colab": {
          "base_uri": "https://localhost:8080/"
        },
        "id": "3epdlV-aJhg_",
        "outputId": "1e249148-bc97-43b1-bc7e-699c0a795772"
      },
      "execution_count": 3,
      "outputs": [
        {
          "output_type": "stream",
          "name": "stdout",
          "text": [
            "Output using employee class :  615000.0\n",
            "Output using fulltime employee class :  615000.0\n"
          ]
        }
      ]
    },
    {
      "cell_type": "markdown",
      "source": [
        "Using NumPy create random vector of size 20 having only float in the range 1-20.\n",
        "Then reshape the array to 4 by 5\n",
        "\n",
        "Then replace the max in each row by 0 (axis=1)\n",
        "(you can NOT implement it via for loop)\n"
      ],
      "metadata": {
        "id": "BdLx7bztKI0k"
      }
    },
    {
      "cell_type": "code",
      "source": [
        "import numpy as np\n",
        "#generating a vector\n",
        "vector = np.random.uniform(1, 20, 20)\n",
        "\n",
        "#reshaping the vector into 4 * 5 matrix\n",
        "matrix = vector.reshape(4, 5)\n",
        "\n",
        "print(\"Original Matrix: \\n\",matrix)\n",
        "\n",
        "#finding the index of the max element along axis = 1\n",
        "indices = np.argmax(matrix, axis=1)\n",
        "\n",
        "#Create a range of indices for each row\n",
        "row_indices = np.arange(matrix.shape[0])\n",
        "\n",
        "#Use advanced indexing to replace max values with 0\n",
        "matrix[row_indices, indices] = 0\n",
        "\n",
        "print(\"Resultant Matrix: \\n\",matrix)"
      ],
      "metadata": {
        "colab": {
          "base_uri": "https://localhost:8080/"
        },
        "id": "QK1ETHsEKPia",
        "outputId": "b8f38d05-1e71-4eb4-9a61-a9553674071b"
      },
      "execution_count": 4,
      "outputs": [
        {
          "output_type": "stream",
          "name": "stdout",
          "text": [
            "Original Matrix: \n",
            " [[ 4.28159563 13.25604556  6.26846129  1.05241034 11.42810401]\n",
            " [ 7.56667263  6.54682004 15.74265977 14.46249482  5.70203309]\n",
            " [ 8.15055373  1.0801678   2.3268007   7.89542182  1.8848317 ]\n",
            " [ 9.75015056  2.61959261  4.97819124 15.94894616 19.62564576]]\n",
            "Resultant Matrix: \n",
            " [[ 4.28159563  0.          6.26846129  1.05241034 11.42810401]\n",
            " [ 7.56667263  6.54682004  0.         14.46249482  5.70203309]\n",
            " [ 0.          1.0801678   2.3268007   7.89542182  1.8848317 ]\n",
            " [ 9.75015056  2.61959261  4.97819124 15.94894616  0.        ]]\n"
          ]
        }
      ]
    }
  ]
}